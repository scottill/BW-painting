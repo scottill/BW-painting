{
 "cells": [
  {
   "cell_type": "code",
   "execution_count": 197,
   "id": "36828542-a000-40f3-a391-d64374fa33d8",
   "metadata": {},
   "outputs": [],
   "source": [
    "import numpy as np \n",
    "import cv2\n",
    "from PIL import Image"
   ]
  },
  {
   "cell_type": "code",
   "execution_count": 198,
   "id": "bf81360d-f8b7-42fa-a87a-583aa4369e37",
   "metadata": {},
   "outputs": [],
   "source": [
    "prototxt_path = 'models/colorization_deploy_v2.prototxt'\n",
    "model_path = 'models/colorization_release_v2.caffemodel'\n",
    "kernel_path = 'models/pts_in_hull.npy'\n",
    "image_path = 'lion.jpg'"
   ]
  },
  {
   "cell_type": "code",
   "execution_count": 199,
   "id": "651deec8-0a0b-4bf2-8b20-49cc97576ab5",
   "metadata": {},
   "outputs": [],
   "source": [
    "end_size = 350\n",
    "L_norm = 45"
   ]
  },
  {
   "cell_type": "code",
   "execution_count": 200,
   "id": "43601b94-ed8d-4675-8aa6-f3d720638580",
   "metadata": {},
   "outputs": [],
   "source": [
    "net = cv2.dnn.readNetFromCaffe(prototxt_path, model_path)\n",
    "points = np.load(kernel_path)"
   ]
  },
  {
   "cell_type": "code",
   "execution_count": 201,
   "id": "0a5872ce-3fe9-45f9-9567-851e59e5015d",
   "metadata": {},
   "outputs": [],
   "source": [
    "points = points.transpose().reshape(2,313, 1, 1)\n",
    "class8 = net.getLayerId(\"class8_ab\")\n",
    "conv8 = net.getLayerId(\"conv8_313_rh\")\n",
    "net.getLayer(class8).blobs = [points.astype(\"float32\")]\n",
    "net.getLayer(conv8).blobs = [np.full([1, 313], 2.606, dtype=\"float32\")]\n",
    "#net.getLayer(net.getLayerId(\"class8_ab\")).blobs = [points.astype(np.float32)]\n",
    "#net.getLayer(net.getLayerId(\"conv8_313_rn\")).blobs = [np.full([1, 313], 2.606, dtype=\"float32\")]"
   ]
  },
  {
   "cell_type": "code",
   "execution_count": 202,
   "id": "f526e916-b485-443f-997c-839df8c3683b",
   "metadata": {},
   "outputs": [],
   "source": [
    "bw_image = cv2.imread(image_path)\n",
    "normalized_bw_image = bw_image.astype(\"float32\") / 255.0\n",
    "lab_image = cv2.cvtColor(normalized_bw_image, cv2.COLOR_BGR2LAB)\n",
    "#model operuje na wymiarach 224x224 (na takich zostal wytrenowany)"
   ]
  },
  {
   "cell_type": "code",
   "execution_count": 203,
   "id": "3e739096-4844-4f61-b521-1805b482fce5",
   "metadata": {},
   "outputs": [],
   "source": [
    "resized = cv2.resize(lab_image, (224, 224))\n",
    "L = cv2.split(resized)[0]\n",
    "L -= L_norm"
   ]
  },
  {
   "cell_type": "code",
   "execution_count": 204,
   "id": "215c4229-dd6a-4231-8c25-cd9f75688300",
   "metadata": {},
   "outputs": [],
   "source": [
    "net.setInput(cv2.dnn.blobFromImage(L))\n",
    "ab = net.forward()[0, :, :, :].transpose((1, 2, 0))"
   ]
  },
  {
   "cell_type": "code",
   "execution_count": 205,
   "id": "22902094-9620-4825-96fa-552394c679b3",
   "metadata": {},
   "outputs": [],
   "source": [
    "ab = cv2.resize(ab, (bw_image.shape[1], bw_image.shape[0]))\n",
    "L = cv2.split(lab_image)[0]"
   ]
  },
  {
   "cell_type": "code",
   "execution_count": 206,
   "id": "7ac41d7b-8a6b-45f7-8672-f66f797f7223",
   "metadata": {},
   "outputs": [],
   "source": [
    "colorized = np.concatenate((L[:,:,np.newaxis], ab), axis=2)\n",
    "colorized = cv2.cvtColor(colorized, cv2.COLOR_LAB2BGR)\n",
    "colorized = (255.0 * colorized).astype(\"uint8\")"
   ]
  },
  {
   "cell_type": "code",
   "execution_count": 207,
   "id": "e0c42ba0-57cc-4bda-8412-f6afa9873018",
   "metadata": {},
   "outputs": [],
   "source": [
    "\n",
    "# cv2.imshow(\"BW Image\", bw_image)\n",
    "# cv2.imshow(\"Colorized\", colorized)\n",
    "# cv2.waitKey(0)\n",
    "# cv2.destroyAllWindows()"
   ]
  },
  {
   "cell_type": "code",
   "execution_count": 208,
   "id": "d867c855-cbd7-442e-aac3-2b26da379b27",
   "metadata": {},
   "outputs": [
    {
     "data": {
      "text/plain": [
       "-1"
      ]
     },
     "execution_count": 208,
     "metadata": {},
     "output_type": "execute_result"
    }
   ],
   "source": [
    "bw_image = cv2.resize(bw_image,(end_size,end_size))\n",
    "colorized = cv2.resize(colorized,(end_size,end_size))\n",
    "result = cv2.hconcat([bw_image,colorized])\n",
    "cv2.imshow(\"Black and White -> Colour\", result)\n",
    "cv2.waitKey(0)"
   ]
  },
  {
   "cell_type": "code",
   "execution_count": null,
   "id": "4cfeefae-6e24-47e5-b068-190bb31cea44",
   "metadata": {},
   "outputs": [],
   "source": []
  }
 ],
 "metadata": {
  "kernelspec": {
   "display_name": "Python 3 (ipykernel)",
   "language": "python",
   "name": "python3"
  },
  "language_info": {
   "codemirror_mode": {
    "name": "ipython",
    "version": 3
   },
   "file_extension": ".py",
   "mimetype": "text/x-python",
   "name": "python",
   "nbconvert_exporter": "python",
   "pygments_lexer": "ipython3",
   "version": "3.12.1"
  }
 },
 "nbformat": 4,
 "nbformat_minor": 5
}
